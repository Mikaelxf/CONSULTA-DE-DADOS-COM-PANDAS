{
 "cells": [
  {
   "cell_type": "code",
   "execution_count": 7,
   "id": "c3e3d244",
   "metadata": {},
   "outputs": [],
   "source": [
    "import pandas as pd #importando a biblioteca pandas"
   ]
  },
  {
   "cell_type": "code",
   "execution_count": 8,
   "id": "d035d5ba",
   "metadata": {},
   "outputs": [],
   "source": [
    "dados = {'empresa': ['empresa1', 'empresa2', 'empresa3', 'empresa4', 'empresa5'], #criando uma base de dados ficticia \n",
    "        'quantidade_funcionarios': ['1000', '10000', '100', '50', '500'],\n",
    "        'ramo': ['calçados', 'maquiagem', 'esporte', 'jogos', 'fast food'],\n",
    "        'tempo_de_mercado': ['45 anos', '50 anos', '20 anos', '25 anos', '30 anos'],\n",
    "        'faturamento_anual': ['5000000', '2500000', '3000000', '1000000', '8000000'],\n",
    "        'avaliacao_funcionarios': ['8.0', '9.0', '9.8', '7.0', '7.5'],\n",
    "        'lucro_anual': ['250000', '330000', '480000', '966000', '800']}"
   ]
  },
  {
   "cell_type": "code",
   "execution_count": 9,
   "id": "f16b802a",
   "metadata": {},
   "outputs": [],
   "source": [
    "df = pd.DataFrame(dados) #cria um objeto pandas DataFrame a partir do dicionário \"dados\""
   ]
  },
  {
   "cell_type": "code",
   "execution_count": 10,
   "id": "a1b31075",
   "metadata": {},
   "outputs": [
    {
     "data": {
      "text/html": [
       "<div>\n",
       "<style scoped>\n",
       "    .dataframe tbody tr th:only-of-type {\n",
       "        vertical-align: middle;\n",
       "    }\n",
       "\n",
       "    .dataframe tbody tr th {\n",
       "        vertical-align: top;\n",
       "    }\n",
       "\n",
       "    .dataframe thead th {\n",
       "        text-align: right;\n",
       "    }\n",
       "</style>\n",
       "<table border=\"1\" class=\"dataframe\">\n",
       "  <thead>\n",
       "    <tr style=\"text-align: right;\">\n",
       "      <th></th>\n",
       "      <th>empresa</th>\n",
       "      <th>quantidade_funcionarios</th>\n",
       "      <th>ramo</th>\n",
       "      <th>tempo_de_mercado</th>\n",
       "      <th>faturamento_anual</th>\n",
       "      <th>avaliacao_funcionarios</th>\n",
       "      <th>lucro_anual</th>\n",
       "    </tr>\n",
       "  </thead>\n",
       "  <tbody>\n",
       "    <tr>\n",
       "      <th>0</th>\n",
       "      <td>empresa1</td>\n",
       "      <td>1000</td>\n",
       "      <td>calçados</td>\n",
       "      <td>45 anos</td>\n",
       "      <td>5000000</td>\n",
       "      <td>8.0</td>\n",
       "      <td>250000</td>\n",
       "    </tr>\n",
       "    <tr>\n",
       "      <th>1</th>\n",
       "      <td>empresa2</td>\n",
       "      <td>10000</td>\n",
       "      <td>maquiagem</td>\n",
       "      <td>50 anos</td>\n",
       "      <td>2500000</td>\n",
       "      <td>9.0</td>\n",
       "      <td>330000</td>\n",
       "    </tr>\n",
       "    <tr>\n",
       "      <th>2</th>\n",
       "      <td>empresa3</td>\n",
       "      <td>100</td>\n",
       "      <td>esporte</td>\n",
       "      <td>20 anos</td>\n",
       "      <td>3000000</td>\n",
       "      <td>9.8</td>\n",
       "      <td>480000</td>\n",
       "    </tr>\n",
       "    <tr>\n",
       "      <th>3</th>\n",
       "      <td>empresa4</td>\n",
       "      <td>50</td>\n",
       "      <td>jogos</td>\n",
       "      <td>25 anos</td>\n",
       "      <td>1000000</td>\n",
       "      <td>7.0</td>\n",
       "      <td>966000</td>\n",
       "    </tr>\n",
       "    <tr>\n",
       "      <th>4</th>\n",
       "      <td>empresa5</td>\n",
       "      <td>500</td>\n",
       "      <td>fast food</td>\n",
       "      <td>30 anos</td>\n",
       "      <td>8000000</td>\n",
       "      <td>7.5</td>\n",
       "      <td>800</td>\n",
       "    </tr>\n",
       "  </tbody>\n",
       "</table>\n",
       "</div>"
      ],
      "text/plain": [
       "    empresa quantidade_funcionarios       ramo tempo_de_mercado  \\\n",
       "0  empresa1                    1000   calçados          45 anos   \n",
       "1  empresa2                   10000  maquiagem          50 anos   \n",
       "2  empresa3                     100    esporte          20 anos   \n",
       "3  empresa4                      50      jogos          25 anos   \n",
       "4  empresa5                     500  fast food          30 anos   \n",
       "\n",
       "  faturamento_anual avaliacao_funcionarios lucro_anual  \n",
       "0           5000000                    8.0      250000  \n",
       "1           2500000                    9.0      330000  \n",
       "2           3000000                    9.8      480000  \n",
       "3           1000000                    7.0      966000  \n",
       "4           8000000                    7.5         800  "
      ]
     },
     "execution_count": 10,
     "metadata": {},
     "output_type": "execute_result"
    }
   ],
   "source": [
    "df.head() #visualiza as 5 primeiras linha do dataframe"
   ]
  },
  {
   "cell_type": "code",
   "execution_count": 11,
   "id": "7f61fc74",
   "metadata": {},
   "outputs": [
    {
     "data": {
      "text/html": [
       "<div>\n",
       "<style scoped>\n",
       "    .dataframe tbody tr th:only-of-type {\n",
       "        vertical-align: middle;\n",
       "    }\n",
       "\n",
       "    .dataframe tbody tr th {\n",
       "        vertical-align: top;\n",
       "    }\n",
       "\n",
       "    .dataframe thead th {\n",
       "        text-align: right;\n",
       "    }\n",
       "</style>\n",
       "<table border=\"1\" class=\"dataframe\">\n",
       "  <thead>\n",
       "    <tr style=\"text-align: right;\">\n",
       "      <th></th>\n",
       "      <th>empresa</th>\n",
       "      <th>quantidade_funcionarios</th>\n",
       "      <th>ramo</th>\n",
       "      <th>tempo_de_mercado</th>\n",
       "      <th>faturamento_anual</th>\n",
       "      <th>avaliacao_funcionarios</th>\n",
       "      <th>lucro_anual</th>\n",
       "    </tr>\n",
       "  </thead>\n",
       "  <tbody>\n",
       "    <tr>\n",
       "      <th>0</th>\n",
       "      <td>empresa1</td>\n",
       "      <td>1000</td>\n",
       "      <td>calçados</td>\n",
       "      <td>45 anos</td>\n",
       "      <td>5000000</td>\n",
       "      <td>8.0</td>\n",
       "      <td>250000</td>\n",
       "    </tr>\n",
       "    <tr>\n",
       "      <th>1</th>\n",
       "      <td>empresa2</td>\n",
       "      <td>10000</td>\n",
       "      <td>maquiagem</td>\n",
       "      <td>50 anos</td>\n",
       "      <td>2500000</td>\n",
       "      <td>9.0</td>\n",
       "      <td>330000</td>\n",
       "    </tr>\n",
       "    <tr>\n",
       "      <th>4</th>\n",
       "      <td>empresa5</td>\n",
       "      <td>500</td>\n",
       "      <td>fast food</td>\n",
       "      <td>30 anos</td>\n",
       "      <td>8000000</td>\n",
       "      <td>7.5</td>\n",
       "      <td>800</td>\n",
       "    </tr>\n",
       "  </tbody>\n",
       "</table>\n",
       "</div>"
      ],
      "text/plain": [
       "    empresa  quantidade_funcionarios       ramo tempo_de_mercado  \\\n",
       "0  empresa1                     1000   calçados          45 anos   \n",
       "1  empresa2                    10000  maquiagem          50 anos   \n",
       "4  empresa5                      500  fast food          30 anos   \n",
       "\n",
       "  faturamento_anual avaliacao_funcionarios lucro_anual  \n",
       "0           5000000                    8.0      250000  \n",
       "1           2500000                    9.0      330000  \n",
       "4           8000000                    7.5         800  "
      ]
     },
     "metadata": {},
     "output_type": "display_data"
    }
   ],
   "source": [
    "df['quantidade_funcionarios'] = df['quantidade_funcionarios'].astype(int) #converte coluna quantidade_funcionarios de string para int\n",
    "\n",
    "empresas_mais_500_funcionarios = df[df['quantidade_funcionarios'] >= 500] #cria um data frame apenas com as empresas com mais de 500 funcionários\n",
    "\n",
    "display(empresas_mais_500_funcionarios) #exibe o dataframe empresas_mais_500_funcionarios"
   ]
  },
  {
   "cell_type": "code",
   "execution_count": 12,
   "id": "fc1082e9",
   "metadata": {},
   "outputs": [
    {
     "data": {
      "text/html": [
       "<div>\n",
       "<style scoped>\n",
       "    .dataframe tbody tr th:only-of-type {\n",
       "        vertical-align: middle;\n",
       "    }\n",
       "\n",
       "    .dataframe tbody tr th {\n",
       "        vertical-align: top;\n",
       "    }\n",
       "\n",
       "    .dataframe thead th {\n",
       "        text-align: right;\n",
       "    }\n",
       "</style>\n",
       "<table border=\"1\" class=\"dataframe\">\n",
       "  <thead>\n",
       "    <tr style=\"text-align: right;\">\n",
       "      <th></th>\n",
       "      <th>empresa</th>\n",
       "      <th>quantidade_funcionarios</th>\n",
       "      <th>ramo</th>\n",
       "      <th>tempo_de_mercado</th>\n",
       "      <th>faturamento_anual</th>\n",
       "      <th>avaliacao_funcionarios</th>\n",
       "      <th>lucro_anual</th>\n",
       "      <th>relacao_faturamento_lucro</th>\n",
       "    </tr>\n",
       "  </thead>\n",
       "  <tbody>\n",
       "    <tr>\n",
       "      <th>0</th>\n",
       "      <td>empresa1</td>\n",
       "      <td>1000</td>\n",
       "      <td>calçados</td>\n",
       "      <td>45 anos</td>\n",
       "      <td>5000000</td>\n",
       "      <td>8.0</td>\n",
       "      <td>250000</td>\n",
       "      <td>20.0</td>\n",
       "    </tr>\n",
       "    <tr>\n",
       "      <th>4</th>\n",
       "      <td>empresa5</td>\n",
       "      <td>500</td>\n",
       "      <td>fast food</td>\n",
       "      <td>30 anos</td>\n",
       "      <td>8000000</td>\n",
       "      <td>7.5</td>\n",
       "      <td>800</td>\n",
       "      <td>10000.0</td>\n",
       "    </tr>\n",
       "  </tbody>\n",
       "</table>\n",
       "</div>"
      ],
      "text/plain": [
       "    empresa  quantidade_funcionarios       ramo tempo_de_mercado  \\\n",
       "0  empresa1                     1000   calçados          45 anos   \n",
       "4  empresa5                      500  fast food          30 anos   \n",
       "\n",
       "   faturamento_anual avaliacao_funcionarios  lucro_anual  \\\n",
       "0            5000000                    8.0       250000   \n",
       "4            8000000                    7.5          800   \n",
       "\n",
       "   relacao_faturamento_lucro  \n",
       "0                       20.0  \n",
       "4                    10000.0  "
      ]
     },
     "metadata": {},
     "output_type": "display_data"
    }
   ],
   "source": [
    "df['faturamento_anual'] = df['faturamento_anual'].astype(int) #converte a coluna faturamento_anual de string para int\n",
    "\n",
    "df['lucro_anual'] = df['lucro_anual'].astype(int) #converte a coluna lucro anual de string para int\n",
    "\n",
    "df['relacao_faturamento_lucro'] = df['faturamento_anual'] / df['lucro_anual'] #cria um data frame relacao_faturamento_lucro que contem o resultado da divisão da coluna faturamento_anual pela coluna lucro_anual\n",
    "\n",
    "empresas_relacao_maior_que_10 = df[df['relacao_faturamento_lucro'] > 10] #cria um dataframe com as empresas que a relaçao entre faturamento e lucro são maior que 10\n",
    "         \n",
    "display(empresas_relacao_maior_que_10) #exibe o dataframe empresas_relacao_maior_que_10"
   ]
  },
  {
   "cell_type": "code",
   "execution_count": 13,
   "id": "8c714f0d",
   "metadata": {},
   "outputs": [
    {
     "name": "stdout",
     "output_type": "stream",
     "text": [
      "A média de avaliação de todas as empresas é:  8.26\n"
     ]
    }
   ],
   "source": [
    "df['avaliacao_funcionarios'] = df['avaliacao_funcionarios'].astype(float) #converte o tipo de dado da coluna para float\n",
    "\n",
    "media_avaliacao = df['avaliacao_funcionarios'].mean() #calcula a media aritmetica dos valores da coluna\n",
    "\n",
    "print(\"A média de avaliação de todas as empresas é: \", media_avaliacao) #exibe a mensagem com a media de avaliacao dos funcionarios de todas as empresas"
   ]
  },
  {
   "cell_type": "code",
   "execution_count": 14,
   "id": "6a7b3ed4",
   "metadata": {},
   "outputs": [
    {
     "name": "stdout",
     "output_type": "stream",
     "text": [
      "Quantidade de empresas com lucro anual superior a R$ 500.000,00:  1\n"
     ]
    }
   ],
   "source": [
    "empresas_lucro_maior_500k = [] #cria uma lista vazia de empresas com lucro maior que 500k\n",
    "\n",
    "for i in range(len(dados['empresa'])): #cria um loop for para percorrer os dados das empresas e adicionar as empresas com lucro anual superior a 500k na lista\n",
    "    lucro_anual = int(dados['lucro_anual'][i])\n",
    "    if lucro_anual > 500000:\n",
    "       empresas_lucro_maior_500k.append(dados['empresa'][i])\n",
    "        \n",
    "quantidade_empresas_lucro_maior_500k = len(empresas_lucro_maior_500k) #armazena o número de empresas com lucro anual maior que 500k\n",
    "\n",
    "print(\"Quantidade de empresas com lucro anual superior a R$ 500.000,00: \", quantidade_empresas_lucro_maior_500k) #exibe a quantidade de empresas com lucro anual maior que 500k"
   ]
  },
  {
   "cell_type": "code",
   "execution_count": 16,
   "id": "949c4d2b",
   "metadata": {},
   "outputs": [
    {
     "name": "stdout",
     "output_type": "stream",
     "text": [
      "Empresas no ramo de Fast Food:  ['empresa5']\n"
     ]
    }
   ],
   "source": [
    "empresas_fast_food = [] #cria uma lista vazia de empresas do ramo de fast food\n",
    "\n",
    "for empresa in dados['empresa']: #cria uma lista de empresas_fast_food que percorre todas as empresas e selecionna apenas as do ramo de fast food\n",
    "    index = dados['empresa'].index(empresa)\n",
    "    if dados['ramo'][index] == 'fast food':\n",
    "        empresas_fast_food.append(empresa)\n",
    "        \n",
    "print(\"Empresas no ramo de Fast Food: \", empresas_fast_food) #exibe as empresas que estão no ramo de fast food"
   ]
  },
  {
   "cell_type": "code",
   "execution_count": null,
   "id": "76ebae1d",
   "metadata": {},
   "outputs": [],
   "source": []
  },
  {
   "cell_type": "code",
   "execution_count": null,
   "id": "1269e25d",
   "metadata": {},
   "outputs": [],
   "source": []
  }
 ],
 "metadata": {
  "kernelspec": {
   "display_name": "Python 3 (ipykernel)",
   "language": "python",
   "name": "python3"
  },
  "language_info": {
   "codemirror_mode": {
    "name": "ipython",
    "version": 3
   },
   "file_extension": ".py",
   "mimetype": "text/x-python",
   "name": "python",
   "nbconvert_exporter": "python",
   "pygments_lexer": "ipython3",
   "version": "3.9.12"
  }
 },
 "nbformat": 4,
 "nbformat_minor": 5
}
